{
 "cells": [
  {
   "cell_type": "markdown",
   "metadata": {},
   "source": [
    "# Item[3] and intervals [n]"
   ]
  },
  {
   "cell_type": "code",
   "execution_count": 1,
   "metadata": {},
   "outputs": [],
   "source": [
    "def convert_to_corrected_format(original_lines):\n",
    "    vocalics = [\"IY\", \"IH\", \"EH\", \"AE\", \"UW\", \"AXR\", \"AX\", \n",
    "                \"AH\", \"AA\", \"UH\", \"OY\", \"OW\", \"EY\",\n",
    "                \"AY\", \"AW\", \"ER\", \"IX\", \"AO\", \"UX\"]\n",
    "    corrected_lines = []\n",
    "\n",
    "    if len(original_lines) >= 12:  # Check if the file has at least 12 lines\n",
    "        num_intervals = original_lines[11]  # Index 11 corresponds to the 12th line\n",
    "    else:\n",
    "        raise ValueError(\"The file does not have the expected format\")\n",
    "\n",
    "    for line in original_lines:\n",
    "        for vocalic in vocalics:\n",
    "            if line[1:].startswith(vocalic):\n",
    "                line = '\"' + vocalic+ '\"\\n'\n",
    "                break\n",
    "        if '\"IntervalTier\"' in line:\n",
    "            add_item = True\n",
    "        elif '\"phone\"' in line:\n",
    "            if add_item:\n",
    "                corrected_lines.append(f'item [{3}]:\\n\"IntervalTier\"\\n')\n",
    "                add_item = False\n",
    "            corrected_lines.append(line)\n",
    "        else:\n",
    "            corrected_lines.append(line)\n",
    "\n",
    "    for n in range(int(num_intervals)):\n",
    "        corrected_lines[12 + 4*(n) - n] = f\"intervals [{n+1}]:\\n\" + corrected_lines[12 + 4*(n) - n]\n",
    "\n",
    "\n",
    "    return corrected_lines\n",
    "\n",
    "def write_corrected_file(corrected_lines, corrected_file):\n",
    "    with open(corrected_file, 'w') as file:\n",
    "        file.writelines(corrected_lines)\n"
   ]
  },
  {
   "cell_type": "markdown",
   "metadata": {},
   "source": [
    "# Batch process"
   ]
  },
  {
   "cell_type": "code",
   "execution_count": 3,
   "metadata": {},
   "outputs": [
    {
     "name": "stderr",
     "output_type": "stream",
     "text": [
      "100%|██████████| 3600/3600 [00:32<00:00, 109.98it/s]\n"
     ]
    }
   ],
   "source": [
    "# batch conversion of all files in a folder\n",
    "import os\n",
    "import tqdm\n",
    "\n",
    "original_folder = r\"C:\\Users\\aleja\\phonet\\uwnu-v1\\textgrids\\\\\"\n",
    "corrected_folder = r\"C:\\Users\\aleja\\phonet\\uwnu-v1\\textgrids_corrected\\\\\"\n",
    "\n",
    "if not os.path.exists(corrected_folder):\n",
    "    os.makedirs(corrected_folder)\n",
    "\n",
    "for file in tqdm.tqdm(os.listdir(original_folder)):\n",
    "    if file.endswith(\".TextGrid\"):\n",
    "        original_file = original_folder + file\n",
    "        corrected_file = corrected_folder + file\n",
    "        with open(original_file, 'r') as original:\n",
    "            original_lines = original.readlines()\n",
    "\n",
    "        corrected_lines = convert_to_corrected_format(original_lines)\n",
    "\n",
    "        write_corrected_file(corrected_lines, corrected_file)\n",
    "        # print(f\"Conversion completed. Corrected file saved as: {corrected_file}\")"
   ]
  }
 ],
 "metadata": {
  "kernelspec": {
   "display_name": "Python 3",
   "language": "python",
   "name": "python3"
  },
  "language_info": {
   "codemirror_mode": {
    "name": "ipython",
    "version": 3
   },
   "file_extension": ".py",
   "mimetype": "text/x-python",
   "name": "python",
   "nbconvert_exporter": "python",
   "pygments_lexer": "ipython3",
   "version": "3.10.11"
  }
 },
 "nbformat": 4,
 "nbformat_minor": 2
}
