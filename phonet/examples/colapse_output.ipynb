{
 "cells": [
  {
   "cell_type": "code",
   "execution_count": 1,
   "metadata": {},
   "outputs": [],
   "source": [
    "# read test_en file and print the first 10 lines\n",
    "import os"
   ]
  },
  {
   "cell_type": "code",
   "execution_count": 3,
   "metadata": {},
   "outputs": [],
   "source": [
    "input_file = \"test_en\"\n",
    "output_file = \"test_en_no_repeats\"\n",
    "with open(input_file, 'r') as f_in, open(output_file, 'w') as f_out:\n",
    "    prev_phoneme = None\n",
    "    for line in f_in:\n",
    "        time, phoneme, vocalic = line.strip().split(',')\n",
    "        if prev_phoneme is None:\n",
    "            f_out.write(line)\n",
    "            prev_phoneme = phoneme\n",
    "        elif prev_phoneme != phoneme:\n",
    "            f_out.write(line)\n",
    "            prev_phoneme = phoneme"
   ]
  },
  {
   "cell_type": "code",
   "execution_count": null,
   "metadata": {},
   "outputs": [],
   "source": [
    "exclude"
   ]
  }
 ],
 "metadata": {
  "kernelspec": {
   "display_name": ".env",
   "language": "python",
   "name": "python3"
  },
  "language_info": {
   "codemirror_mode": {
    "name": "ipython",
    "version": 3
   },
   "file_extension": ".py",
   "mimetype": "text/x-python",
   "name": "python",
   "nbconvert_exporter": "python",
   "pygments_lexer": "ipython3",
   "version": "3.7.17"
  }
 },
 "nbformat": 4,
 "nbformat_minor": 2
}
